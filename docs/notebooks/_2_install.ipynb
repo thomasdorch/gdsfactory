{
 "cells": [
  {
   "cell_type": "markdown",
   "id": "0a9de7cf-8b74-464b-82cd-f90e1121c19c",
   "metadata": {},
   "source": [
    "# Install gdsfactory\n",
    "\n",
    "![](https://i.imgur.com/zMpvrWr.png)\n",
    "\n",
    "\n",
    "![](https://i.imgur.com/xCw77tv.png)\n",
    "\n",
    "- 1. Install [klayout](https://www.klayout.de/build.html) to visualize the GDS files that you create.\n",
    "- 2. Install python 3.7, 3.8, 3.9 or 3.10 I recommend to install python with [mamba](https://github.com/conda-forge/miniforge#mambaforge) (faster conda alternative), which makes easier to install plugins such as meep.\n",
    "\n",
    "| OS      | Architecture          | Download  |\n",
    "| --------|-----------------------|-----------|\n",
    "| Linux   | x86_64 (amd64)        | [Mambaforge-Linux-x86_64](https://github.com/conda-forge/miniforge/releases/latest/download/Mambaforge-Linux-x86_64.sh) |\n",
    "| Linux   | aarch64 (arm64)       | [Mambaforge-Linux-aarch64](https://github.com/conda-forge/miniforge/releases/latest/download/Mambaforge-Linux-aarch64.sh) |\n",
    "| Linux   | ppc64le (POWER8/9)    | [Mambaforge-Linux-ppc64le](https://github.com/conda-forge/miniforge/releases/latest/download/Mambaforge-Linux-ppc64le.sh) |\n",
    "| OS X    | x86_64                | [Mambaforge-MacOSX-x86_64](https://github.com/conda-forge/miniforge/releases/latest/download/Mambaforge-MacOSX-x86_64.sh) |\n",
    "| OS X    | arm64 (Apple Silicon) | [Mambaforge-MacOSX-arm64](https://github.com/conda-forge/miniforge/releases/latest/download/Mambaforge-MacOSX-arm64.sh) |\n",
    "| Windows | x86_64                | [Mambaforge-Windows-x86_64](https://github.com/conda-forge/miniforge/releases/latest/download/Mambaforge-Windows-x86_64.exe) |\n",
    "\n",
    "- 3. Install gdsfactory\n",
    "\n",
    "    - 3.1 Users can `pip install gdsfactory` for MacOs and Linux, and for Windows `mamba install gdspy -y; pip install gdsfactory`\n",
    "    - 3.2 Developers, can git clone it from [GitHub](https://github.com/gdsfactory/gdsfactory/) and `make install` (linux and MacOs) or `./install.bat` (windows)\n",
    "\n",
    "Mamba is a faster alternative to conda, for conda you can replace `mamba install gdspy` with `conda install -c conda-forge gdspy -y; pip intall gdsfactory`\n",
    "\n",
    "**Notice** that the latest versions of gdsfactory are no longer compatible with python3.6 and that gdsfactory==2.4.9 was the last version supported by python 3.6. Pip will select this version for py 3.6 environments, which is fundamentally and structurally different to the latest version.\n",
    "\n",
    "\n",
    "## Update gdsfactory\n",
    "\n",
    "1. Users can `pip install gdsfactory --upgrade`\n",
    "2. Developers can `git pull` on the repository you downloaded and installed on your computer.\n"
   ]
  }
 ],
 "metadata": {
  "kernelspec": {
   "display_name": "Python 3 (ipykernel)",
   "language": "python",
   "name": "python3"
  },
  "language_info": {
   "codemirror_mode": {
    "name": "ipython",
    "version": 3
   },
   "file_extension": ".py",
   "mimetype": "text/x-python",
   "name": "python",
   "nbconvert_exporter": "python",
   "pygments_lexer": "ipython3",
   "version": "3.9.10"
  }
 },
 "nbformat": 4,
 "nbformat_minor": 5
}
